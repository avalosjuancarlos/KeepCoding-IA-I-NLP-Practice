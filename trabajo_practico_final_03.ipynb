{
  "nbformat": 4,
  "nbformat_minor": 0,
  "metadata": {
    "colab": {
      "provenance": []
    },
    "kernelspec": {
      "name": "python3",
      "display_name": "Python 3"
    },
    "language_info": {
      "name": "python"
    }
  },
  "cells": [
    {
      "cell_type": "markdown",
      "source": [
        "# 3. Etapa de entrenamiento y testeo de un modelo de análisis de sentimiento\n",
        "\n",
        "El alumno, con los datos preprocesados del ejercicio 2, **deberá entrenar dos\n",
        "modelos distintos** de los que, tras comparar sus resultados, elegirá uno como el mejor.\n",
        "Para tomar esta decisión se basará en las métricas que calcule (precision, recall, f1-score,\n",
        "...). **El enfoque será el de un problema de clasificación binaria supervisada.**\n",
        "\n",
        "Los modelos deberán tomar a su entrada los datos codificados con un modelo de\n",
        "bolsa de palabras (**bag-of-words**). Se deberán justificar los parámetros del vectorizer, así\n",
        "como tener en cuenta aspectos como el balanceo de clases.\n",
        "\n",
        "**La elección de los modelos es libre.**"
      ],
      "metadata": {
        "id": "90vQJT84I_4D"
      }
    },
    {
      "cell_type": "code",
      "execution_count": 1,
      "metadata": {
        "colab": {
          "base_uri": "https://localhost:8080/"
        },
        "id": "9LhtAkf8I6Ov",
        "outputId": "be4c48b3-0584-4b98-f93b-9b66b367a24e"
      },
      "outputs": [
        {
          "output_type": "stream",
          "name": "stdout",
          "text": [
            "Mounted at /content/drive\n"
          ]
        }
      ],
      "source": [
        "from google.colab import drive\n",
        "drive.mount('/content/drive')"
      ]
    },
    {
      "cell_type": "code",
      "source": [
        "import pandas as pd\n",
        "import numpy as np\n",
        "import matplotlib\n",
        "from sklearn.feature_extraction.text import CountVectorizer\n",
        "import joblib\n",
        "import random\n",
        "import pickle"
      ],
      "metadata": {
        "id": "G69vjJskKSVd"
      },
      "execution_count": 2,
      "outputs": []
    },
    {
      "cell_type": "markdown",
      "source": [
        "## Obtenemos los datasets"
      ],
      "metadata": {
        "id": "d1mMdp3aKM1o"
      }
    },
    {
      "cell_type": "code",
      "source": [
        "# Comprobamos a abrirlos de nuevo\n",
        "train_data = pd.read_csv(\"/content/drive/MyDrive/train_data_preprocesado.csv\", sep=';')\n",
        "test_data = pd.read_csv(\"/content/drive/MyDrive/test_data_preprocesado.csv\", sep=';')\n",
        "train_data.shape, test_data.shape"
      ],
      "metadata": {
        "colab": {
          "base_uri": "https://localhost:8080/"
        },
        "id": "yEnZHSK3KPIX",
        "outputId": "dcc62811-0657-4ff9-a054-1e70a6ded1c6"
      },
      "execution_count": 3,
      "outputs": [
        {
          "output_type": "execute_result",
          "data": {
            "text/plain": [
              "((800, 2), (200, 2))"
            ]
          },
          "metadata": {},
          "execution_count": 3
        }
      ]
    },
    {
      "cell_type": "code",
      "source": [
        "train_data.info()"
      ],
      "metadata": {
        "colab": {
          "base_uri": "https://localhost:8080/"
        },
        "id": "Iu8y0OvpKaPL",
        "outputId": "14e94240-9d2f-4818-e591-9e64300c5cb4"
      },
      "execution_count": 4,
      "outputs": [
        {
          "output_type": "stream",
          "name": "stdout",
          "text": [
            "<class 'pandas.core.frame.DataFrame'>\n",
            "RangeIndex: 800 entries, 0 to 799\n",
            "Data columns (total 2 columns):\n",
            " #   Column  Non-Null Count  Dtype \n",
            "---  ------  --------------  ----- \n",
            " 0   rating  800 non-null    int64 \n",
            " 1   text    798 non-null    object\n",
            "dtypes: int64(1), object(1)\n",
            "memory usage: 12.6+ KB\n"
          ]
        }
      ]
    },
    {
      "cell_type": "code",
      "source": [
        "# como tenemos NAN los eliminamos\n",
        "train_data = train_data.dropna()\n",
        "train_data.info()"
      ],
      "metadata": {
        "colab": {
          "base_uri": "https://localhost:8080/"
        },
        "id": "yA-0a1O9rw35",
        "outputId": "bb28729d-db6c-4162-b62b-0b50314a9839"
      },
      "execution_count": 5,
      "outputs": [
        {
          "output_type": "stream",
          "name": "stdout",
          "text": [
            "<class 'pandas.core.frame.DataFrame'>\n",
            "Index: 798 entries, 0 to 799\n",
            "Data columns (total 2 columns):\n",
            " #   Column  Non-Null Count  Dtype \n",
            "---  ------  --------------  ----- \n",
            " 0   rating  798 non-null    int64 \n",
            " 1   text    798 non-null    object\n",
            "dtypes: int64(1), object(1)\n",
            "memory usage: 18.7+ KB\n"
          ]
        }
      ]
    },
    {
      "cell_type": "code",
      "source": [
        "test_data.info()"
      ],
      "metadata": {
        "colab": {
          "base_uri": "https://localhost:8080/"
        },
        "id": "h4z8OBq-Kda0",
        "outputId": "7f10f77a-ef24-4dd4-a60a-335bf73510b6"
      },
      "execution_count": 6,
      "outputs": [
        {
          "output_type": "stream",
          "name": "stdout",
          "text": [
            "<class 'pandas.core.frame.DataFrame'>\n",
            "RangeIndex: 200 entries, 0 to 199\n",
            "Data columns (total 2 columns):\n",
            " #   Column  Non-Null Count  Dtype \n",
            "---  ------  --------------  ----- \n",
            " 0   rating  200 non-null    int64 \n",
            " 1   text    200 non-null    object\n",
            "dtypes: int64(1), object(1)\n",
            "memory usage: 3.2+ KB\n"
          ]
        }
      ]
    },
    {
      "cell_type": "markdown",
      "source": [
        "## Preparamos la data para usar BoW"
      ],
      "metadata": {
        "id": "cEDaP3KkNnM5"
      }
    },
    {
      "cell_type": "code",
      "source": [
        "# Separamos las reviews en datasets de data\n",
        "data_train = [text for text in train_data['text']]\n",
        "data_test = [text for text in test_data['text']]\n",
        "len(data_train), len(data_test)"
      ],
      "metadata": {
        "colab": {
          "base_uri": "https://localhost:8080/"
        },
        "id": "15E6ogwANw6O",
        "outputId": "e6c64e27-7fdb-4d94-c7c3-dbd9bba0770f"
      },
      "execution_count": 7,
      "outputs": [
        {
          "output_type": "execute_result",
          "data": {
            "text/plain": [
              "(798, 200)"
            ]
          },
          "metadata": {},
          "execution_count": 7
        }
      ]
    },
    {
      "cell_type": "code",
      "source": [
        "# Creamos dos datasets con palabras\n",
        "words_train = [str(text).split() for text in data_train]\n",
        "words_test = [str(text).split() for text in data_test]\n",
        "len(words_train), len(words_test)"
      ],
      "metadata": {
        "colab": {
          "base_uri": "https://localhost:8080/"
        },
        "id": "cAl4mfs8RP5w",
        "outputId": "bf30b044-a281-413e-823a-eec508801c71"
      },
      "execution_count": 8,
      "outputs": [
        {
          "output_type": "execute_result",
          "data": {
            "text/plain": [
              "(798, 200)"
            ]
          },
          "metadata": {},
          "execution_count": 8
        }
      ]
    },
    {
      "cell_type": "code",
      "source": [
        "# Separamos las reviews en datasets de labels\n",
        "labels_train = [rating for rating in train_data['rating']]\n",
        "labels_test = [rating for rating in test_data['rating']]\n",
        "len(labels_train), len(labels_test)"
      ],
      "metadata": {
        "colab": {
          "base_uri": "https://localhost:8080/"
        },
        "id": "zdEaw3uJRRsW",
        "outputId": "a6ae5df1-b79a-46a7-a5f5-4a69c9477acb"
      },
      "execution_count": 9,
      "outputs": [
        {
          "output_type": "execute_result",
          "data": {
            "text/plain": [
              "(798, 200)"
            ]
          },
          "metadata": {},
          "execution_count": 9
        }
      ]
    },
    {
      "cell_type": "code",
      "source": [
        "print(\"\\n--- Raw review ---\")\n",
        "print(data_train[1])\n",
        "print(\"\\n--- Preprocessed words ---\")\n",
        "print(words_train[1])\n",
        "print(\"\\n--- Label ---\")\n",
        "print(labels_train[1])"
      ],
      "metadata": {
        "colab": {
          "base_uri": "https://localhost:8080/"
        },
        "id": "ZE5RxHzON0-d",
        "outputId": "04997561-8d03-4407-90e5-93c9726d4935"
      },
      "execution_count": 10,
      "outputs": [
        {
          "output_type": "stream",
          "name": "stdout",
          "text": [
            "\n",
            "--- Raw review ---\n",
            "great set cd like old style countri music\n",
            "\n",
            "--- Preprocessed words ---\n",
            "['great', 'set', 'cd', 'like', 'old', 'style', 'countri', 'music']\n",
            "\n",
            "--- Label ---\n",
            "1\n"
          ]
        }
      ]
    },
    {
      "cell_type": "code",
      "source": [
        "# Obtenos el tamaño maximo de palabras en un documento\n",
        "vocabulary_train_size = max(len(x) for x in words_train )\n",
        "vocabulary_test_size = max(len(x) for x in words_test )\n",
        "vocabulary_train_size, vocabulary_test_size"
      ],
      "metadata": {
        "colab": {
          "base_uri": "https://localhost:8080/"
        },
        "id": "RRy8g7sYVCvG",
        "outputId": "ac357051-78cd-4cc8-e960-34c28635bb72"
      },
      "execution_count": 11,
      "outputs": [
        {
          "output_type": "execute_result",
          "data": {
            "text/plain": [
              "(839, 918)"
            ]
          },
          "metadata": {},
          "execution_count": 11
        }
      ]
    },
    {
      "cell_type": "markdown",
      "source": [
        "## BoW"
      ],
      "metadata": {
        "id": "GfGJXZsHU4vu"
      }
    },
    {
      "cell_type": "code",
      "source": [
        "def extract_BoW_features(words_train, words_test, vocabulary_size=5000):\n",
        "  \"\"\"Extract Bag-of-Words for a given set of documents\"\"\"\n",
        "\n",
        "  vectorizer = CountVectorizer(max_features=vocabulary_size,\n",
        "          preprocessor=lambda x: x, tokenizer=lambda x: x)  # already preprocessed\n",
        "  features_train = vectorizer.fit_transform(words_train).toarray()\n",
        "\n",
        "  features_test = vectorizer.transform(words_test).toarray()\n",
        "\n",
        "  vocabulary = vectorizer.vocabulary_\n",
        "\n",
        "  return features_train, features_test, vocabulary\n"
      ],
      "metadata": {
        "id": "GpNTXBVEOVM8"
      },
      "execution_count": 12,
      "outputs": []
    },
    {
      "cell_type": "code",
      "source": [
        "# Extraemos las features usando BoW\n",
        "# usamos como tamaño de vocabulario la cantidad máxima de palabras encontradas en un documento\n",
        "# Lo que encontramos es que en test hay mas palabras, por eso vamos a usar ese valor como límite\n",
        "features_train, features_test, vocabulary = extract_BoW_features(words_train,\n",
        "                                                                 words_test,\n",
        "                                                                 vocabulary_test_size)\n",
        "\n",
        "print(\"Vocabulary: {} words\".format(len(vocabulary)))\n",
        "\n",
        "print(\"\\nSample words: {}\".format(random.sample(list(vocabulary.keys()), 8)))\n",
        "\n",
        "print(\"\\n--- Preprocessed words ---\")\n",
        "print(words_train[5])\n",
        "print(\"\\n--- Bag-of-Words features ---\")\n",
        "print(features_train[5])\n",
        "print(\"\\n--- Label ---\")\n",
        "print(labels_train[5])"
      ],
      "metadata": {
        "colab": {
          "base_uri": "https://localhost:8080/"
        },
        "id": "vIvktBRNXVzf",
        "outputId": "850e0d5a-a330-4ad8-ebd2-980ba9033ba2"
      },
      "execution_count": 13,
      "outputs": [
        {
          "output_type": "stream",
          "name": "stdout",
          "text": [
            "Vocabulary: 918 words\n",
            "\n",
            "Sample words: ['pretti', 'angri', 'truli', 'eighteen', 'men', 'line', 'japan', 'william']\n",
            "\n",
            "--- Preprocessed words ---\n",
            "['long', 'time', 'consum', 'sea', 'song', 'chang', 'found', 'cd', 'adequ', 'best', 'represent', 'may', 'record', 'mystic', 'festiv', 'excel', 'venu', 'high', 'point', 'wade', 'water', 'much', 'present', 'rather', 'inspir', 'nonetheless', 'belong', 'librari', 'anyon', 'enjoy', 'sea', 'music']\n",
            "\n",
            "--- Bag-of-Words features ---\n",
            "[0 0 0 0 0 0 0 0 0 0 0 0 0 0 0 0 0 0 0 0 0 0 0 0 0 0 0 0 0 0 0 0 0 1 0 0 0\n",
            " 0 0 0 0 0 0 0 0 0 0 0 0 0 0 0 0 0 0 0 0 0 0 0 0 0 0 0 0 0 0 0 0 0 0 0 0 0\n",
            " 0 0 0 0 1 0 0 0 0 0 0 0 0 0 0 0 0 0 0 0 0 0 0 0 0 0 0 0 0 0 0 0 0 0 0 0 0\n",
            " 0 0 0 0 0 0 0 0 0 0 0 0 0 0 0 0 0 1 0 0 0 0 1 0 0 0 0 0 0 0 0 0 0 0 0 0 0\n",
            " 0 0 0 0 0 0 0 0 0 0 0 0 0 0 0 0 0 0 0 0 0 0 0 0 0 0 0 0 0 0 0 0 0 0 0 0 0\n",
            " 0 0 0 0 0 0 0 0 0 0 0 0 0 0 0 0 0 0 0 0 0 0 0 0 0 0 0 0 0 0 0 0 0 0 0 0 0\n",
            " 0 0 0 0 0 0 0 0 0 0 0 0 0 0 0 0 0 0 0 0 0 0 0 0 0 0 0 0 0 0 0 1 0 0 0 0 0\n",
            " 0 0 0 0 0 0 0 0 0 0 0 0 0 1 0 0 0 0 0 0 0 0 0 0 0 0 0 0 0 0 0 0 0 0 0 0 0\n",
            " 0 0 0 0 1 0 0 0 0 0 0 0 0 0 0 0 0 0 0 0 0 0 0 1 0 0 0 0 0 0 0 0 0 0 0 0 0\n",
            " 0 0 0 0 0 0 0 0 0 0 0 0 0 0 0 0 0 0 0 0 0 0 0 0 0 0 0 0 0 0 0 0 0 0 0 0 0\n",
            " 0 0 0 0 0 0 0 0 0 0 1 0 0 0 0 0 0 0 0 0 0 0 0 0 0 0 0 0 0 0 0 0 0 0 0 0 0\n",
            " 1 0 0 0 0 0 0 0 0 0 0 0 0 0 0 0 0 0 0 0 0 0 0 0 0 0 0 0 0 0 0 0 0 0 0 0 0\n",
            " 0 0 0 0 0 0 0 0 0 0 0 0 0 0 0 0 0 0 0 1 0 0 0 0 0 0 0 0 0 0 0 0 0 0 1 0 0\n",
            " 0 0 0 0 0 0 0 0 0 0 0 0 0 0 0 0 0 0 0 0 0 0 0 1 0 0 0 0 0 0 0 0 0 0 0 0 0\n",
            " 0 0 0 0 0 0 0 0 0 0 0 0 0 0 0 0 0 0 0 0 0 0 0 0 0 0 1 1 0 0 0 0 0 0 0 0 0\n",
            " 0 0 0 0 0 0 0 0 0 0 0 0 0 0 0 0 0 0 0 0 0 0 0 0 0 0 0 0 0 0 0 0 0 0 0 0 0\n",
            " 0 0 0 0 0 0 0 0 0 0 0 0 0 0 0 0 0 0 0 0 0 0 0 0 0 0 0 0 1 0 0 0 0 0 0 0 0\n",
            " 0 1 0 0 0 0 0 0 0 0 0 0 0 0 0 0 0 0 0 0 0 0 0 0 0 0 1 0 0 0 0 0 0 0 0 0 1\n",
            " 0 0 0 0 0 0 0 0 0 0 0 0 0 0 0 0 0 0 0 0 0 0 0 0 0 0 0 0 0 0 0 0 0 0 0 0 0\n",
            " 0 0 0 0 0 0 0 0 0 0 0 0 0 0 0 0 0 0 0 0 0 0 0 0 0 0 0 0 0 0 0 0 0 0 0 0 0\n",
            " 0 0 0 0 0 0 0 0 0 0 0 0 0 0 0 0 1 0 0 0 0 0 0 0 0 0 0 0 0 0 0 0 0 0 0 0 0\n",
            " 0 0 0 0 0 0 0 0 0 0 0 0 0 0 0 0 0 0 0 0 0 0 0 0 0 0 0 0 0 0 0 0 0 0 0 0 0\n",
            " 0 0 0 0 0 0 0 0 0 0 0 0 0 0 1 0 0 0 0 0 0 0 0 0 0 0 0 0 0 0 0 0 0 0 0 0 0\n",
            " 0 0 0 0 0 0 0 0 0 0 0 0 0 0 0 0 0 0 0 0 0 0 0 0 0 0 0 0 0 0 0 0 1 0 0 0 0\n",
            " 0 0 0 0 0 0 0 0 0 0 0 0 0 0 0 0 0 0 0 0 0 0 0 0 0 0 0 0 0 0]\n",
            "\n",
            "--- Label ---\n",
            "0\n"
          ]
        },
        {
          "output_type": "stream",
          "name": "stderr",
          "text": [
            "/usr/local/lib/python3.10/dist-packages/sklearn/feature_extraction/text.py:528: UserWarning: The parameter 'token_pattern' will not be used since 'tokenizer' is not None'\n",
            "  warnings.warn(\n"
          ]
        }
      ]
    },
    {
      "cell_type": "markdown",
      "source": [
        "## Guardamos los datos procesados por Bow"
      ],
      "metadata": {
        "id": "B5E4mxTccdrV"
      }
    },
    {
      "cell_type": "code",
      "source": [
        "def save_pkl(model_name, model):\n",
        "  # create an iterator object with write permission - model.pickle\n",
        "  with open(model_name, 'wb') as files:\n",
        "    pickle.dump(model, files)"
      ],
      "metadata": {
        "id": "TmlOK8GQd4xt"
      },
      "execution_count": 14,
      "outputs": []
    },
    {
      "cell_type": "code",
      "source": [
        "def load_pkl(model_name):\n",
        "  # load saved model\n",
        "  with open(model_name , 'rb') as f:\n",
        "      lr = pickle.load(f)\n",
        "  return lr"
      ],
      "metadata": {
        "id": "isskpSIRd-1v"
      },
      "execution_count": 15,
      "outputs": []
    },
    {
      "cell_type": "code",
      "source": [
        "preprocessed_data = dict(words_train=words_train, words_test=words_test,\n",
        "                              labels_train=labels_train, labels_test=labels_test)\n",
        "preprocessed_data.keys()"
      ],
      "metadata": {
        "colab": {
          "base_uri": "https://localhost:8080/"
        },
        "id": "VCRUR0bNhCTm",
        "outputId": "8ea901aa-a4f7-4f9b-ec19-f586ada702f6"
      },
      "execution_count": 16,
      "outputs": [
        {
          "output_type": "execute_result",
          "data": {
            "text/plain": [
              "dict_keys(['words_train', 'words_test', 'labels_train', 'labels_test'])"
            ]
          },
          "metadata": {},
          "execution_count": 16
        }
      ]
    },
    {
      "cell_type": "code",
      "source": [
        "save_pkl('preprocessed_data.pkl', preprocessed_data)"
      ],
      "metadata": {
        "id": "WYxJJyHhgDh8"
      },
      "execution_count": 17,
      "outputs": []
    },
    {
      "cell_type": "code",
      "source": [
        "!cp preprocessed_data.pkl /content/drive/MyDrive/preprocessed_data.pkl"
      ],
      "metadata": {
        "id": "ZX22TnA6gcCb"
      },
      "execution_count": 18,
      "outputs": []
    },
    {
      "cell_type": "code",
      "source": [
        "# obtenes la data guardada\n",
        "preprocessed_data = load_pkl('/content/drive/MyDrive/preprocessed_data.pkl')\n",
        "preprocessed_data.keys()"
      ],
      "metadata": {
        "colab": {
          "base_uri": "https://localhost:8080/"
        },
        "id": "wJFx1qHsgnTf",
        "outputId": "733ef203-9482-4e05-a15d-3337fa926e5a"
      },
      "execution_count": 19,
      "outputs": [
        {
          "output_type": "execute_result",
          "data": {
            "text/plain": [
              "dict_keys(['words_train', 'words_test', 'labels_train', 'labels_test'])"
            ]
          },
          "metadata": {},
          "execution_count": 19
        }
      ]
    },
    {
      "cell_type": "code",
      "source": [
        "# Ahora guardamos las features de BoW\n",
        "bow_features = dict(features_train=features_train, features_test=features_test,\n",
        "                             vocabulary=vocabulary)\n",
        "bow_features.keys()"
      ],
      "metadata": {
        "colab": {
          "base_uri": "https://localhost:8080/"
        },
        "id": "mqtnlQKshofY",
        "outputId": "400a8c82-fe81-4710-d82c-901a4ce36218"
      },
      "execution_count": 20,
      "outputs": [
        {
          "output_type": "execute_result",
          "data": {
            "text/plain": [
              "dict_keys(['features_train', 'features_test', 'vocabulary'])"
            ]
          },
          "metadata": {},
          "execution_count": 20
        }
      ]
    },
    {
      "cell_type": "code",
      "source": [
        "save_pkl('bow_features.pkl', bow_features)"
      ],
      "metadata": {
        "id": "ZdohcBQqiCRn"
      },
      "execution_count": 21,
      "outputs": []
    },
    {
      "cell_type": "code",
      "source": [
        "!cp bow_features.pkl /content/drive/MyDrive/bow_features.pkl"
      ],
      "metadata": {
        "id": "MUW1RP5_iImE"
      },
      "execution_count": 22,
      "outputs": []
    },
    {
      "cell_type": "code",
      "source": [
        "# obtenes la data guardada\n",
        "bow_features = load_pkl('/content/drive/MyDrive/bow_features.pkl')\n",
        "bow_features.keys()"
      ],
      "metadata": {
        "colab": {
          "base_uri": "https://localhost:8080/"
        },
        "id": "qh9IqvOviOiR",
        "outputId": "8d791ed7-83c4-4261-c204-ecf216de9853"
      },
      "execution_count": 23,
      "outputs": [
        {
          "output_type": "execute_result",
          "data": {
            "text/plain": [
              "dict_keys(['features_train', 'features_test', 'vocabulary'])"
            ]
          },
          "metadata": {},
          "execution_count": 23
        }
      ]
    },
    {
      "cell_type": "markdown",
      "source": [
        "## Normalización de features"
      ],
      "metadata": {
        "id": "w1gqubkHijgL"
      }
    },
    {
      "cell_type": "code",
      "source": [
        "import sklearn.preprocessing as pr\n",
        "\n",
        "features_train = pr.normalize(features_train, axis=1)\n",
        "features_test = pr.normalize(features_test, axis=1)"
      ],
      "metadata": {
        "id": "QoMSSqFXilXa"
      },
      "execution_count": 24,
      "outputs": []
    },
    {
      "cell_type": "markdown",
      "source": [
        "## Entrenamiento de varios modelos"
      ],
      "metadata": {
        "id": "W3rIoVP9ityA"
      }
    },
    {
      "cell_type": "code",
      "source": [
        "from sklearn.feature_extraction.text import TfidfVectorizer,CountVectorizer\n",
        "from sklearn.model_selection import cross_val_score, GridSearchCV, StratifiedKFold\n",
        "import sklearn.linear_model as lm\n",
        "from sklearn.ensemble import RandomForestClassifier\n",
        "from sklearn.neighbors import KNeighborsClassifier\n",
        "from sklearn.svm import SVC\n",
        "from sklearn.tree import DecisionTreeClassifier\n",
        "from sklearn.metrics import classification_report\n",
        "from sklearn.metrics import confusion_matrix\n",
        "from sklearn.ensemble import GradientBoostingClassifier"
      ],
      "metadata": {
        "id": "tGQGhzpnjnUF"
      },
      "execution_count": 25,
      "outputs": []
    },
    {
      "cell_type": "code",
      "source": [
        "# creamos variables standard\n",
        "x_features_train = features_train\n",
        "y_labels_train = labels_train\n",
        "\n",
        "x_features_test = features_test\n",
        "y_labels_test = labels_test"
      ],
      "metadata": {
        "id": "UNWu_T6CkUu1"
      },
      "execution_count": 26,
      "outputs": []
    },
    {
      "cell_type": "code",
      "source": [
        "# Configuramos una semilla que va a ser utilizada para entrenar todos los modelos\n",
        "global_seed = 42\n",
        "\n",
        "# Creamos un array de modelos an entrenar\n",
        "# Como va a ser una revisión general de modelos, no se pone mucho enfasis\n",
        "# en configurar los diferentes parámetres\n",
        "models = []\n",
        "models.append((\"Random Forest\", RandomForestClassifier(random_state=global_seed)))\n",
        "models.append((\"LASSO\", lm.LogisticRegression(random_state=global_seed)))\n",
        "models.append((\"KNN\", KNeighborsClassifier()))\n",
        "models.append((\"Decision Tree\", DecisionTreeClassifier(random_state=global_seed)))\n",
        "models.append((\"SVM\", SVC(random_state=global_seed)))\n",
        "models.append((\"Gradient Boosting\", GradientBoostingClassifier(random_state=global_seed)\n",
        "))\n",
        "\n",
        "# Creamos arrays para almacenar los resultados\n",
        "results = []\n",
        "names = []\n",
        "\n",
        "# setemos en 0 los mejores resultados\n",
        "best_mean_result = 0\n",
        "best_std_result = 0\n",
        "\n",
        "# Corremos todos los modelos utilizando StratifiedKFlod y cross_val_score\n",
        "for name, model in models:\n",
        "  kfold = StratifiedKFold()\n",
        "  cv_results = cross_val_score(model, x_features_train, y_labels_train, scoring='accuracy', cv=kfold)\n",
        "  results.append(cv_results)\n",
        "  names.append(name)\n",
        "  print(name + \": mean(accuracy)=\" + str(round(np.mean(cv_results), 3)) + \", std(accuracy)=\" + str(round(np.std(cv_results), 3)))\n",
        "  if (best_mean_result < np.mean(cv_results)) or \\\n",
        "    ((best_mean_result == np.mean(cv_results)) and (best_std_result > np.std(cv_results))):\n",
        "    best_mean_result = np.mean(cv_results)\n",
        "    best_std_result = np.std(cv_results)\n",
        "    best_model_name = name\n",
        "    best_model = model\n",
        "print(\"\\nEl mejor modelo es:\\n\" + best_model_name)"
      ],
      "metadata": {
        "colab": {
          "base_uri": "https://localhost:8080/"
        },
        "id": "EnY0fsnzivBe",
        "outputId": "93ff086c-df90-4bd7-dd75-4b5285fd4a0b"
      },
      "execution_count": 27,
      "outputs": [
        {
          "output_type": "stream",
          "name": "stdout",
          "text": [
            "Random Forest: mean(accuracy)=0.798, std(accuracy)=0.012\n",
            "LASSO: mean(accuracy)=0.783, std(accuracy)=0.006\n",
            "KNN: mean(accuracy)=0.769, std(accuracy)=0.007\n",
            "Decision Tree: mean(accuracy)=0.723, std(accuracy)=0.03\n",
            "SVM: mean(accuracy)=0.782, std(accuracy)=0.012\n",
            "Gradient Boosting: mean(accuracy)=0.771, std(accuracy)=0.013\n",
            "\n",
            "El mejor modelo es:\n",
            "Random Forest\n"
          ]
        }
      ]
    },
    {
      "cell_type": "markdown",
      "source": [
        "## Boxplot del accuracy de los modelos"
      ],
      "metadata": {
        "id": "rLIsUbwWmfCI"
      }
    },
    {
      "cell_type": "code",
      "source": [
        "matplotlib.pyplot.boxplot(results, labels=names)\n",
        "matplotlib.pyplot.title(\"Accuracy de los diferentes Modelos\")\n",
        "matplotlib.pyplot.show()"
      ],
      "metadata": {
        "colab": {
          "base_uri": "https://localhost:8080/",
          "height": 452
        },
        "id": "7U3NKW5Omlrk",
        "outputId": "e98f54ca-2741-4302-beca-fa90e5fb67e4"
      },
      "execution_count": 28,
      "outputs": [
        {
          "output_type": "display_data",
          "data": {
            "text/plain": [
              "<Figure size 640x480 with 1 Axes>"
            ],
            "image/png": "[encoded data removed]"
          },
          "metadata": {}
        }
      ]
    },
    {
      "cell_type": "markdown",
      "source": [
        "## Entrenamos y testamos el modelo Random Forest, ya que fue el que mejor resultado pre-eliminar arrojo"
      ],
      "metadata": {
        "id": "Vi436_Iupiaa"
      }
    },
    {
      "cell_type": "code",
      "source": [
        "# modelo a entrenar\n",
        "model = RandomForestClassifier()\n",
        "\n",
        "# Elegimos algunos hiperparámetros para buscar el óptimo\n",
        "params = {\"n_estimators\": range(10, 31, 3),\n",
        "           \"min_samples_split\": range(2, 10, 2)}\n",
        "\n",
        "# Entrenamos usando grid_search para encontrar los hiperparámetros óptimos\n",
        "grid_search = GridSearchCV(model, params)\n",
        "grid_search.fit(x_features_train, y_labels_train)\n",
        "\n",
        "print(\"El 'n_estimators' optimo es:\", grid_search.best_params_[\"n_estimators\"])\n",
        "print(\"El 'min_samples_split' optimo es:\", grid_search.best_params_[\"min_samples_split\"])"
      ],
      "metadata": {
        "colab": {
          "base_uri": "https://localhost:8080/"
        },
        "id": "t99YIfJeqN2J",
        "outputId": "87919bd3-300a-4dfb-be67-c1eaebabbb25"
      },
      "execution_count": 29,
      "outputs": [
        {
          "output_type": "stream",
          "name": "stdout",
          "text": [
            "El 'n_estimators' optimo es: 28\n",
            "El 'min_samples_split' optimo es: 8\n"
          ]
        }
      ]
    },
    {
      "cell_type": "code",
      "source": [
        "# Configuramos el modelo con los hiperparámetros óptimos\n",
        "model = RandomForestClassifier(n_estimators=grid_search.best_params_[\"n_estimators\"],\n",
        "                                min_samples_split=grid_search.best_params_[\"min_samples_split\"],\n",
        "                                )\n",
        "\n",
        "# Entrenamos el modelo\n",
        "model.fit(x_features_train, y_labels_train)"
      ],
      "metadata": {
        "colab": {
          "base_uri": "https://localhost:8080/",
          "height": 75
        },
        "id": "CUSFOzJhrDzu",
        "outputId": "49ab6d51-88b1-4c89-8604-60aadf14d1bf"
      },
      "execution_count": 30,
      "outputs": [
        {
          "output_type": "execute_result",
          "data": {
            "text/plain": [
              "RandomForestClassifier(min_samples_split=8, n_estimators=28)"
            ],
            "text/html": [
              "<style>#sk-container-id-1 {color: black;background-color: white;}#sk-container-id-1 pre{padding: 0;}#sk-container-id-1 div.sk-toggleable {background-color: white;}#sk-container-id-1 label.sk-toggleable__label {cursor: pointer;display: block;width: 100%;margin-bottom: 0;padding: 0.3em;box-sizing: border-box;text-align: center;}#sk-container-id-1 label.sk-toggleable__label-arrow:before {content: \"▸\";float: left;margin-right: 0.25em;color: #696969;}#sk-container-id-1 label.sk-toggleable__label-arrow:hover:before {color: black;}#sk-container-id-1 div.sk-estimator:hover label.sk-toggleable__label-arrow:before {color: black;}#sk-container-id-1 div.sk-toggleable__content {max-height: 0;max-width: 0;overflow: hidden;text-align: left;background-color: #f0f8ff;}#sk-container-id-1 div.sk-toggleable__content pre {margin: 0.2em;color: black;border-radius: 0.25em;background-color: #f0f8ff;}#sk-container-id-1 input.sk-toggleable__control:checked~div.sk-toggleable__content {max-height: 200px;max-width: 100%;overflow: auto;}#sk-container-id-1 input.sk-toggleable__control:checked~label.sk-toggleable__label-arrow:before {content: \"▾\";}#sk-container-id-1 div.sk-estimator input.sk-toggleable__control:checked~label.sk-toggleable__label {background-color: #d4ebff;}#sk-container-id-1 div.sk-label input.sk-toggleable__control:checked~label.sk-toggleable__label {background-color: #d4ebff;}#sk-container-id-1 input.sk-hidden--visually {border: 0;clip: rect(1px 1px 1px 1px);clip: rect(1px, 1px, 1px, 1px);height: 1px;margin: -1px;overflow: hidden;padding: 0;position: absolute;width: 1px;}#sk-container-id-1 div.sk-estimator {font-family: monospace;background-color: #f0f8ff;border: 1px dotted black;border-radius: 0.25em;box-sizing: border-box;margin-bottom: 0.5em;}#sk-container-id-1 div.sk-estimator:hover {background-color: #d4ebff;}#sk-container-id-1 div.sk-parallel-item::after {content: \"\";width: 100%;border-bottom: 1px solid gray;flex-grow: 1;}#sk-container-id-1 div.sk-label:hover label.sk-toggleable__label {background-color: #d4ebff;}#sk-container-id-1 div.sk-serial::before {content: \"\";position: absolute;border-left: 1px solid gray;box-sizing: border-box;top: 0;bottom: 0;left: 50%;z-index: 0;}#sk-container-id-1 div.sk-serial {display: flex;flex-direction: column;align-items: center;background-color: white;padding-right: 0.2em;padding-left: 0.2em;position: relative;}#sk-container-id-1 div.sk-item {position: relative;z-index: 1;}#sk-container-id-1 div.sk-parallel {display: flex;align-items: stretch;justify-content: center;background-color: white;position: relative;}#sk-container-id-1 div.sk-item::before, #sk-container-id-1 div.sk-parallel-item::before {content: \"\";position: absolute;border-left: 1px solid gray;box-sizing: border-box;top: 0;bottom: 0;left: 50%;z-index: -1;}#sk-container-id-1 div.sk-parallel-item {display: flex;flex-direction: column;z-index: 1;position: relative;background-color: white;}#sk-container-id-1 div.sk-parallel-item:first-child::after {align-self: flex-end;width: 50%;}#sk-container-id-1 div.sk-parallel-item:last-child::after {align-self: flex-start;width: 50%;}#sk-container-id-1 div.sk-parallel-item:only-child::after {width: 0;}#sk-container-id-1 div.sk-dashed-wrapped {border: 1px dashed gray;margin: 0 0.4em 0.5em 0.4em;box-sizing: border-box;padding-bottom: 0.4em;background-color: white;}#sk-container-id-1 div.sk-label label {font-family: monospace;font-weight: bold;display: inline-block;line-height: 1.2em;}#sk-container-id-1 div.sk-label-container {text-align: center;}#sk-container-id-1 div.sk-container {/* jupyter's `normalize.less` sets `[hidden] { display: none; }` but bootstrap.min.css set `[hidden] { display: none !important; }` so we also need the `!important` here to be able to override the default hidden behavior on the sphinx rendered scikit-learn.org. See: https://github.com/scikit-learn/scikit-learn/issues/21755 */display: inline-block !important;position: relative;}#sk-container-id-1 div.sk-text-repr-fallback {display: none;}</style><div id=\"sk-container-id-1\" class=\"sk-top-container\"><div class=\"sk-text-repr-fallback\"><pre>RandomForestClassifier(min_samples_split=8, n_estimators=28)</pre><b>In a Jupyter environment, please rerun this cell to show the HTML representation or trust the notebook. <br />On GitHub, the HTML representation is unable to render, please try loading this page with nbviewer.org.</b></div><div class=\"sk-container\" hidden><div class=\"sk-item\"><div class=\"sk-estimator sk-toggleable\"><input class=\"sk-toggleable__control sk-hidden--visually\" id=\"sk-estimator-id-1\" type=\"checkbox\" checked><label for=\"sk-estimator-id-1\" class=\"sk-toggleable__label sk-toggleable__label-arrow\">RandomForestClassifier</label><div class=\"sk-toggleable__content\"><pre>RandomForestClassifier(min_samples_split=8, n_estimators=28)</pre></div></div></div></div></div>"
            ]
          },
          "metadata": {},
          "execution_count": 30
        }
      ]
    },
    {
      "cell_type": "markdown",
      "source": [
        "## Generamos los resultados de TRAIN"
      ],
      "metadata": {
        "id": "cR4g2iqUreQK"
      }
    },
    {
      "cell_type": "code",
      "source": [
        "y_train_estimated = model.predict(x_features_train)\n",
        "accuracy_train = np.mean(y_train_estimated == y_labels_train)\n",
        "baseline_accuracy_train = np.mean(0 == y_labels_train)\n",
        "if(baseline_accuracy_train != 0):\n",
        "  accuracy_lift_train = 100 * (accuracy_train/baseline_accuracy_train - 1)\n",
        "else:\n",
        "  accuracy_lift_train = 0\n",
        "\n",
        "print(\"Resultados en TRAIN utilizando Random Forest:\\n-------------------------\")\n",
        "print(\"Baseline accuracy:\", round(baseline_accuracy_train, 2))\n",
        "print(\"accuracy:\", round(accuracy_train, 2))\n",
        "print(\"accuracy lift:\", round(accuracy_lift_train), \"%\")"
      ],
      "metadata": {
        "colab": {
          "base_uri": "https://localhost:8080/"
        },
        "id": "9mKEV1v2rh1c",
        "outputId": "17822aa5-369c-4ee5-efbb-7d7db1243965"
      },
      "execution_count": 31,
      "outputs": [
        {
          "output_type": "stream",
          "name": "stdout",
          "text": [
            "Resultados en TRAIN utilizando Random Forest:\n",
            "-------------------------\n",
            "Baseline accuracy: 0.0\n",
            "accuracy: 0.98\n",
            "accuracy lift: 0 %\n"
          ]
        }
      ]
    },
    {
      "cell_type": "markdown",
      "source": [
        "## Generamos los resultados de TEST"
      ],
      "metadata": {
        "id": "UHQqQhvQuVOU"
      }
    },
    {
      "cell_type": "code",
      "source": [
        "y_test_estimated = model.predict(x_features_test)\n",
        "accuracy_test = np.mean(y_test_estimated == y_labels_test)\n",
        "baseline_accuracy_test = np.mean(0 == y_labels_test)\n",
        "if(baseline_accuracy_train != 0):\n",
        "  accuracy_lift = 100 * (accuracy_test/baseline_accuracy_test - 1)\n",
        "else:\n",
        "  accuracy_lift = 0\n",
        "\n",
        "print(\"Resultados en TEST utilizando Random Forest:\\n-------------------------\")\n",
        "print(\"Baseline accuracy:\", round(baseline_accuracy_test, 2))\n",
        "print(\"accuracy:\", round(accuracy_test, 2))\n",
        "print(\"accuracy lift:\", round(accuracy_lift), \"%\")"
      ],
      "metadata": {
        "colab": {
          "base_uri": "https://localhost:8080/"
        },
        "id": "DrKZQx2-uipk",
        "outputId": "0d62c186-f998-42cf-a2d3-894e5671b457"
      },
      "execution_count": 32,
      "outputs": [
        {
          "output_type": "stream",
          "name": "stdout",
          "text": [
            "Resultados en TEST utilizando Random Forest:\n",
            "-------------------------\n",
            "Baseline accuracy: 0.0\n",
            "accuracy: 0.79\n",
            "accuracy lift: 0 %\n"
          ]
        }
      ]
    },
    {
      "cell_type": "markdown",
      "source": [
        "## Guardamos el modelo y los datos de entrenamiento"
      ],
      "metadata": {
        "id": "Meuhkjop0tQ1"
      }
    },
    {
      "cell_type": "code",
      "source": [
        "save_pkl('model_random_forest.pkl', model)"
      ],
      "metadata": {
        "id": "4Iqo6Y8ezL2t"
      },
      "execution_count": 33,
      "outputs": []
    },
    {
      "cell_type": "code",
      "source": [
        "!cp model_random_forest.pkl /content/drive/MyDrive/model_random_forest.pkl"
      ],
      "metadata": {
        "id": "EUmN5D5V1MSy"
      },
      "execution_count": 34,
      "outputs": []
    },
    {
      "cell_type": "code",
      "source": [
        "# obtenes la data guardada\n",
        "model = load_pkl('/content/drive/MyDrive/model_random_forest.pkl')\n",
        "model"
      ],
      "metadata": {
        "colab": {
          "base_uri": "https://localhost:8080/",
          "height": 75
        },
        "id": "V7sZKVfO1M_H",
        "outputId": "4cc89219-1973-4e21-a92a-5d912145e6f0"
      },
      "execution_count": 35,
      "outputs": [
        {
          "output_type": "execute_result",
          "data": {
            "text/plain": [
              "RandomForestClassifier(min_samples_split=8, n_estimators=28)"
            ],
            "text/html": [
              "<style>#sk-container-id-2 {color: black;background-color: white;}#sk-container-id-2 pre{padding: 0;}#sk-container-id-2 div.sk-toggleable {background-color: white;}#sk-container-id-2 label.sk-toggleable__label {cursor: pointer;display: block;width: 100%;margin-bottom: 0;padding: 0.3em;box-sizing: border-box;text-align: center;}#sk-container-id-2 label.sk-toggleable__label-arrow:before {content: \"▸\";float: left;margin-right: 0.25em;color: #696969;}#sk-container-id-2 label.sk-toggleable__label-arrow:hover:before {color: black;}#sk-container-id-2 div.sk-estimator:hover label.sk-toggleable__label-arrow:before {color: black;}#sk-container-id-2 div.sk-toggleable__content {max-height: 0;max-width: 0;overflow: hidden;text-align: left;background-color: #f0f8ff;}#sk-container-id-2 div.sk-toggleable__content pre {margin: 0.2em;color: black;border-radius: 0.25em;background-color: #f0f8ff;}#sk-container-id-2 input.sk-toggleable__control:checked~div.sk-toggleable__content {max-height: 200px;max-width: 100%;overflow: auto;}#sk-container-id-2 input.sk-toggleable__control:checked~label.sk-toggleable__label-arrow:before {content: \"▾\";}#sk-container-id-2 div.sk-estimator input.sk-toggleable__control:checked~label.sk-toggleable__label {background-color: #d4ebff;}#sk-container-id-2 div.sk-label input.sk-toggleable__control:checked~label.sk-toggleable__label {background-color: #d4ebff;}#sk-container-id-2 input.sk-hidden--visually {border: 0;clip: rect(1px 1px 1px 1px);clip: rect(1px, 1px, 1px, 1px);height: 1px;margin: -1px;overflow: hidden;padding: 0;position: absolute;width: 1px;}#sk-container-id-2 div.sk-estimator {font-family: monospace;background-color: #f0f8ff;border: 1px dotted black;border-radius: 0.25em;box-sizing: border-box;margin-bottom: 0.5em;}#sk-container-id-2 div.sk-estimator:hover {background-color: #d4ebff;}#sk-container-id-2 div.sk-parallel-item::after {content: \"\";width: 100%;border-bottom: 1px solid gray;flex-grow: 1;}#sk-container-id-2 div.sk-label:hover label.sk-toggleable__label {background-color: #d4ebff;}#sk-container-id-2 div.sk-serial::before {content: \"\";position: absolute;border-left: 1px solid gray;box-sizing: border-box;top: 0;bottom: 0;left: 50%;z-index: 0;}#sk-container-id-2 div.sk-serial {display: flex;flex-direction: column;align-items: center;background-color: white;padding-right: 0.2em;padding-left: 0.2em;position: relative;}#sk-container-id-2 div.sk-item {position: relative;z-index: 1;}#sk-container-id-2 div.sk-parallel {display: flex;align-items: stretch;justify-content: center;background-color: white;position: relative;}#sk-container-id-2 div.sk-item::before, #sk-container-id-2 div.sk-parallel-item::before {content: \"\";position: absolute;border-left: 1px solid gray;box-sizing: border-box;top: 0;bottom: 0;left: 50%;z-index: -1;}#sk-container-id-2 div.sk-parallel-item {display: flex;flex-direction: column;z-index: 1;position: relative;background-color: white;}#sk-container-id-2 div.sk-parallel-item:first-child::after {align-self: flex-end;width: 50%;}#sk-container-id-2 div.sk-parallel-item:last-child::after {align-self: flex-start;width: 50%;}#sk-container-id-2 div.sk-parallel-item:only-child::after {width: 0;}#sk-container-id-2 div.sk-dashed-wrapped {border: 1px dashed gray;margin: 0 0.4em 0.5em 0.4em;box-sizing: border-box;padding-bottom: 0.4em;background-color: white;}#sk-container-id-2 div.sk-label label {font-family: monospace;font-weight: bold;display: inline-block;line-height: 1.2em;}#sk-container-id-2 div.sk-label-container {text-align: center;}#sk-container-id-2 div.sk-container {/* jupyter's `normalize.less` sets `[hidden] { display: none; }` but bootstrap.min.css set `[hidden] { display: none !important; }` so we also need the `!important` here to be able to override the default hidden behavior on the sphinx rendered scikit-learn.org. See: https://github.com/scikit-learn/scikit-learn/issues/21755 */display: inline-block !important;position: relative;}#sk-container-id-2 div.sk-text-repr-fallback {display: none;}</style><div id=\"sk-container-id-2\" class=\"sk-top-container\"><div class=\"sk-text-repr-fallback\"><pre>RandomForestClassifier(min_samples_split=8, n_estimators=28)</pre><b>In a Jupyter environment, please rerun this cell to show the HTML representation or trust the notebook. <br />On GitHub, the HTML representation is unable to render, please try loading this page with nbviewer.org.</b></div><div class=\"sk-container\" hidden><div class=\"sk-item\"><div class=\"sk-estimator sk-toggleable\"><input class=\"sk-toggleable__control sk-hidden--visually\" id=\"sk-estimator-id-2\" type=\"checkbox\" checked><label for=\"sk-estimator-id-2\" class=\"sk-toggleable__label sk-toggleable__label-arrow\">RandomForestClassifier</label><div class=\"sk-toggleable__content\"><pre>RandomForestClassifier(min_samples_split=8, n_estimators=28)</pre></div></div></div></div></div>"
            ]
          },
          "metadata": {},
          "execution_count": 35
        }
      ]
    },
    {
      "cell_type": "code",
      "source": [
        "model_features = dict(x_features_train=x_features_train,\n",
        "                      y_labels_train=y_labels_train,\n",
        "                      x_features_test=x_features_test,\n",
        "                      y_labels_test=y_labels_test)\n",
        "model_features.keys()"
      ],
      "metadata": {
        "colab": {
          "base_uri": "https://localhost:8080/"
        },
        "id": "3wGefxmn1kXb",
        "outputId": "5eeae82b-e6cd-47c0-b79f-9ffe06ae48f0"
      },
      "execution_count": 36,
      "outputs": [
        {
          "output_type": "execute_result",
          "data": {
            "text/plain": [
              "dict_keys(['x_features_train', 'y_labels_train', 'x_features_test', 'y_labels_test'])"
            ]
          },
          "metadata": {},
          "execution_count": 36
        }
      ]
    },
    {
      "cell_type": "code",
      "source": [
        "save_pkl('model_features.pkl', model_features)"
      ],
      "metadata": {
        "id": "gBd5y7LN2uMq"
      },
      "execution_count": 37,
      "outputs": []
    },
    {
      "cell_type": "code",
      "source": [
        "!cp model_features.pkl /content/drive/MyDrive/model_features.pkl"
      ],
      "metadata": {
        "id": "6BR9pSPJ21G3"
      },
      "execution_count": 38,
      "outputs": []
    },
    {
      "cell_type": "code",
      "source": [
        "# obtenes la data guardada\n",
        "model_features = load_pkl('/content/drive/MyDrive/model_features.pkl')\n",
        "model_features.keys()"
      ],
      "metadata": {
        "colab": {
          "base_uri": "https://localhost:8080/"
        },
        "id": "Nh9-p6g124dt",
        "outputId": "c29bff6b-3aac-433c-e734-8dc8c176163f"
      },
      "execution_count": 39,
      "outputs": [
        {
          "output_type": "execute_result",
          "data": {
            "text/plain": [
              "dict_keys(['x_features_train', 'y_labels_train', 'x_features_test', 'y_labels_test'])"
            ]
          },
          "metadata": {},
          "execution_count": 39
        }
      ]
    },
    {
      "cell_type": "markdown",
      "source": [
        "## Conclusión\n",
        "\n",
        "Solo probamos con modelos Machine Learning por cuestiones de tiempo.\n",
        "\n",
        "Realizamos el BoW y corrimos diferentes modelos de entrenamiento con parámetros genéricos.\n",
        "\n",
        "En este primer análisis, el modelo que mejor accuracy obtuvo fue Random Forest.\n",
        "\n",
        "Debido a esto procedimos a intentar encontrar algunos hiperparámetros óptimos y pasar a entrenar el modelo con los mismos.\n",
        "\n",
        "Además tratamos de guardar todos los datos que nos puedan servir para realizar el reporte de métricas."
      ],
      "metadata": {
        "id": "M-sJJib63GAH"
      }
    },
    {
      "cell_type": "code",
      "source": [],
      "metadata": {
        "id": "teM5CuyS4d4R"
      },
      "execution_count": 39,
      "outputs": []
    }
  ]
}